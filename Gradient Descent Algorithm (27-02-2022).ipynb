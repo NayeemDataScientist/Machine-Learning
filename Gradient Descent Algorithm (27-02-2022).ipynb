{
 "cells": [
  {
   "cell_type": "markdown",
   "id": "1cc49ed0",
   "metadata": {},
   "source": [
    "# Gradient Descent Algorithm"
   ]
  },
  {
   "cell_type": "code",
   "execution_count": 3,
   "id": "0a2cee90",
   "metadata": {},
   "outputs": [
    {
     "name": "stdout",
     "output_type": "stream",
     "text": [
      "SGDRegressor: 0.497546 (0.248076)\n"
     ]
    }
   ],
   "source": [
    "# importing libraries\n",
    "\n",
    "from sklearn import linear_model\n",
    "from sklearn.datasets import load_boston\n",
    "from sklearn.linear_model import SGDRegressor\n",
    "\n",
    "from sklearn.decomposition import PCA\n",
    "from sklearn.preprocessing import StandardScaler\n",
    "from sklearn.model_selection import cross_val_score\n",
    "from sklearn.metrics import r2_score, mean_squared_error\n",
    "from sklearn.pipeline import Pipeline\n",
    "\n",
    "import numpy as np\n",
    "import pandas as pd\n",
    "\n",
    "import warnings\n",
    "warnings.filterwarnings('ignore')\n",
    "\n",
    "#Loading the data\n",
    "\n",
    "X=load_boston()\n",
    "data=pd.DataFrame(X.data,columns=X.feature_names)\n",
    "Y=X.target\n",
    "\n",
    "#Creating a Model\n",
    "\n",
    "pipe=[]\n",
    "pipe.append(('SC',StandardScaler()))\n",
    "pipe.append(('PCA',PCA(n_components=8)))\n",
    "pipe.append(('SGD',SGDRegressor(alpha=0.1,learning_rate='optimal',max_iter=400,penalty='l2')))\n",
    "model=Pipeline(pipe)\n",
    "\n",
    "#Cross Validation Score\n",
    "\n",
    "cv_results = cross_val_score(model, data, Y, cv=5)\n",
    "msg=\"%s: %f (%f)\" % ('SGDRegressor', cv_results.mean(), cv_results.std())\n",
    "print(msg)"
   ]
  },
  {
   "cell_type": "code",
   "execution_count": 4,
   "id": "31bb6641",
   "metadata": {},
   "outputs": [
    {
     "name": "stdout",
     "output_type": "stream",
     "text": [
      "SGDClassifier: 0.806667 (0.114310)\n"
     ]
    }
   ],
   "source": [
    "from sklearn.linear_model import SGDClassifier\n",
    "\n",
    "from sklearn.datasets import load_iris\n",
    "X=load_iris()\n",
    "data=pd.DataFrame(X.data,columns=X.feature_names)\n",
    "Y=X.target\n",
    "\n",
    "#Creating a model\n",
    "\n",
    "model=SGDClassifier()\n",
    "\n",
    "#cross Validation Score\n",
    "\n",
    "cv_results =cross_val_score(model, data, Y, cv=5)\n",
    "msg=\"%s: %f (%f)\" % ('SGDClassifier', cv_results.mean(), cv_results.std())\n",
    "\n",
    "print(msg)"
   ]
  },
  {
   "cell_type": "code",
   "execution_count": null,
   "id": "21501b82",
   "metadata": {},
   "outputs": [],
   "source": []
  },
  {
   "cell_type": "code",
   "execution_count": null,
   "id": "b105c86b",
   "metadata": {},
   "outputs": [],
   "source": []
  },
  {
   "cell_type": "code",
   "execution_count": null,
   "id": "7f4e69ed",
   "metadata": {},
   "outputs": [],
   "source": []
  }
 ],
 "metadata": {
  "kernelspec": {
   "display_name": "Python 3 (ipykernel)",
   "language": "python",
   "name": "python3"
  },
  "language_info": {
   "codemirror_mode": {
    "name": "ipython",
    "version": 3
   },
   "file_extension": ".py",
   "mimetype": "text/x-python",
   "name": "python",
   "nbconvert_exporter": "python",
   "pygments_lexer": "ipython3",
   "version": "3.9.7"
  }
 },
 "nbformat": 4,
 "nbformat_minor": 5
}
